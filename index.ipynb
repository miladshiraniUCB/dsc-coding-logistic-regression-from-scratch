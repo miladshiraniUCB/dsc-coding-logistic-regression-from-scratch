{
 "cells": [
  {
   "cell_type": "markdown",
   "metadata": {},
   "source": [
    "# Coding Logistic Regression From Scratch - Lab\n",
    "\n",
    "## Introduction\n",
    "\n",
    "In this lab, you'll practice your ability to translate mathematical algorithms into Python functions. This will deepen and solidify your understanding of logistic regression!\n",
    "\n",
    "## Objectives\n",
    "\n",
    "In this lab you will: \n",
    "\n",
    "- Build a logistic regression model from scratch using gradient descent "
   ]
  },
  {
   "cell_type": "markdown",
   "metadata": {},
   "source": [
    "## Overview\n",
    "\n",
    "Recall that the logistic regression algorithm builds upon the intuition from linear regression. In logistic regression, you start by taking the input data, `X`, and multiplying it by a vector of weights for each of the individual features, which produces an output, `y`. Afterward, you'll work on using an iterative approach via gradient descent to tune these weights. "
   ]
  },
  {
   "cell_type": "markdown",
   "metadata": {},
   "source": [
    "## Linear regression setup\n",
    "\n",
    "Write a simple function `predict_y()` that takes in a matrix `X` of observations and a vector of feature weights `w` and outputs a vector of predictions for the various observations.\n",
    "\n",
    "Recall that this is the sum of the product of each of the feature observations and their corresponding feature weights:  \n",
    "  \n",
    "$\\large \\hat{y}_i = X_{i1} \\cdot w_1 + X_{i2} \\cdot w_2 + X_{i3} \\cdot w_3 + ... + X_{in} \\cdot w_n$\n",
    "\n",
    "> **Hint**: Think about which mathematical operation you've seen previously that will take a matrix (`X`) and multiply it by a vector of weights (`w`). Use NumPy! "
   ]
  },
  {
   "cell_type": "code",
   "execution_count": 1,
   "metadata": {},
   "outputs": [],
   "source": [
    "# Your code here\n",
    "import numpy as np\n",
    "import pandas as pd\n",
    "\n",
    "def predict_y(X, w): \n",
    "    y = np.dot(X,w)\n",
    "    return y"
   ]
  },
  {
   "cell_type": "markdown",
   "metadata": {},
   "source": [
    "## The sigmoid function\n",
    "\n",
    "Recall that the sigmoid function is used to map the linear regression model output to a range of 0 to 1, satisfying basic premises of probability. As a reminder, the sigmoid function is defined by:  \n",
    "  \n",
    "$S(x) = \\dfrac{1}{1+e^{(-x)}}$   \n",
    "  \n",
    "Write this as a Python function where `x` is the input and the function outputs the result of the sigmoid function. \n",
    "\n",
    "> **Hint**: Use NumPy!"
   ]
  },
  {
   "cell_type": "code",
   "execution_count": 2,
   "metadata": {},
   "outputs": [],
   "source": [
    "# Your code here\n",
    "def sigmoid(y):\n",
    "    s = 1 / (1 + np.exp(-1*y)) \n",
    "    return s"
   ]
  },
  {
   "cell_type": "markdown",
   "metadata": {},
   "source": [
    "## Plot the sigmoid\n",
    "\n",
    "For good measure, let's do a brief investigation of your new function. Plot the output of your `sigmoid()` function using 10,000 values evenly spaced from -20 to 20. "
   ]
  },
  {
   "cell_type": "code",
   "execution_count": 3,
   "metadata": {},
   "outputs": [
    {
     "data": {
      "image/png": "[encoded data removed]",
      "text/plain": [
       "<Figure size 432x288 with 1 Axes>"
      ]
     },
     "metadata": {
      "needs_background": "light"
     },
     "output_type": "display_data"
    }
   ],
   "source": [
    "import matplotlib.pyplot as plt\n",
    "import seaborn as sns\n",
    "%matplotlib inline\n",
    "\n",
    "# Plot sigmoid\n",
    "x = np.linspace(start = -20, stop = 20, num = 10000)\n",
    "y = sigmoid(x)\n",
    "\n",
    "sns.lineplot(x = x, y = y, label = \"Sigmoid\")\n",
    "plt.xlabel(\"x\")\n",
    "plt.ylabel(\"y\")\n",
    "plt.legend()\n",
    "plt.show();"
   ]
  },
  {
   "cell_type": "markdown",
   "metadata": {},
   "source": [
    "## Gradient descent with the sigmoid function\n",
    "\n",
    "Recall that gradient descent is a numerical method for finding a minimum to a cost function. In the case of logistic regression, you are looking to minimize the error between the model's predictions and the actual data labels. To do this, you first calculate an error vector based on the current model's feature weights. You then multiply the transpose of the training matrix itself by this error vector in order to obtain the gradient. Finally, you take the gradient, multiply it by the step size and add this to our current weight vector to update it. Below, write such a function. It will take 5 inputs:  \n",
    "\n",
    "* `X`  \n",
    "* `y`   \n",
    "* `max_iterations`   \n",
    "* `alpha` (the step size)   \n",
    "* `initial_weights`   \n",
    "\n",
    "\n",
    "By default, have your function set the `initial_weights` parameter to a vector where all feature weights are set to 1. "
   ]
  },
  {
   "cell_type": "code",
   "execution_count": 19,
   "metadata": {},
   "outputs": [],
   "source": [
    "# Your code here\n",
    "def grad_desc(X, y, max_iterations, alpha, initial_weights=None):\n",
    "    \"\"\"Be sure to set default behavior for the initial_weights parameter.\"\"\"\n",
    "       \n",
    "    if initial_weights==None:\n",
    "        initial_weights = np.ones((X.shape[1],1)).flatten()\n",
    "# Create a for loop of iterations\n",
    "    # Generate predictions using the current feature weights\n",
    "    # Calculate an error vector based on these initial predictions and the \n",
    "    # correct labels\n",
    "    # Calculate the gradient \n",
    "    # As we saw in the previous lab, calculating the gradient is often the \n",
    "    # most difficult task.\n",
    "    # Here, your are provided with the closed form solution for the gradient \n",
    "    # of the log-loss function derived from MLE\n",
    "    # For more details on the derivation, see the additional resources \n",
    "    # section below.\n",
    "    \n",
    "    w = initial_weights\n",
    "    w_df = pd.DataFrame({})\n",
    "    w_df[\"initial_weight\"] = w\n",
    "    for i in range(max_iterations):\n",
    "        \n",
    "        y_pred = sigmoid(predict_y(X, w))\n",
    "        error_vector = y - y_pred\n",
    "        gradient = np.dot(X.transpose(), error_vector) \n",
    "        # Update the weight vector take a step of alpha in direction of gradient\n",
    "        w += alpha * gradient\n",
    "        \n",
    "        w_df[f\"{i}_iter\"] = w\n",
    "    # Return finalized weights\n",
    "    return w, w_df\n",
    "    "
   ]
  },
  {
   "cell_type": "markdown",
   "metadata": {},
   "source": [
    "## Running your algorithm\n",
    "\n",
    "Now that you've coded everything from the ground up, you can further investigate the convergence behavior of the gradient descent algorithm. Remember that gradient descent does not guarantee a global minimum, only a local minimum, and that small deviations in the starting point or step size can lead to different outputs.  \n",
    "  \n",
    "First, run the following cell to import the data and create the predictor and target variables: "
   ]
  },
  {
   "cell_type": "code",
   "execution_count": 20,
   "metadata": {},
   "outputs": [
    {
     "name": "stdout",
     "output_type": "stream",
     "text": [
      "1.0    165\n",
      "0.0    138\n",
      "Name: target, dtype: int64\n"
     ]
    },
    {
     "data": {
      "text/html": [
       "<div>\n",
       "<style scoped>\n",
       "    .dataframe tbody tr th:only-of-type {\n",
       "        vertical-align: middle;\n",
       "    }\n",
       "\n",
       "    .dataframe tbody tr th {\n",
       "        vertical-align: top;\n",
       "    }\n",
       "\n",
       "    .dataframe thead th {\n",
       "        text-align: right;\n",
       "    }\n",
       "</style>\n",
       "<table border=\"1\" class=\"dataframe\">\n",
       "  <thead>\n",
       "    <tr style=\"text-align: right;\">\n",
       "      <th></th>\n",
       "      <th>age</th>\n",
       "      <th>sex</th>\n",
       "      <th>cp</th>\n",
       "      <th>trestbps</th>\n",
       "      <th>chol</th>\n",
       "      <th>fbs</th>\n",
       "      <th>restecg</th>\n",
       "      <th>thalach</th>\n",
       "      <th>exang</th>\n",
       "      <th>oldpeak</th>\n",
       "      <th>slope</th>\n",
       "      <th>ca</th>\n",
       "      <th>thal</th>\n",
       "    </tr>\n",
       "  </thead>\n",
       "  <tbody>\n",
       "    <tr>\n",
       "      <th>0</th>\n",
       "      <td>0.708333</td>\n",
       "      <td>1.0</td>\n",
       "      <td>1.000000</td>\n",
       "      <td>0.481132</td>\n",
       "      <td>0.244292</td>\n",
       "      <td>1.0</td>\n",
       "      <td>0.0</td>\n",
       "      <td>0.603053</td>\n",
       "      <td>0.0</td>\n",
       "      <td>0.370968</td>\n",
       "      <td>0.0</td>\n",
       "      <td>0.0</td>\n",
       "      <td>0.333333</td>\n",
       "    </tr>\n",
       "    <tr>\n",
       "      <th>1</th>\n",
       "      <td>0.166667</td>\n",
       "      <td>1.0</td>\n",
       "      <td>0.666667</td>\n",
       "      <td>0.339623</td>\n",
       "      <td>0.283105</td>\n",
       "      <td>0.0</td>\n",
       "      <td>0.5</td>\n",
       "      <td>0.885496</td>\n",
       "      <td>0.0</td>\n",
       "      <td>0.564516</td>\n",
       "      <td>0.0</td>\n",
       "      <td>0.0</td>\n",
       "      <td>0.666667</td>\n",
       "    </tr>\n",
       "    <tr>\n",
       "      <th>2</th>\n",
       "      <td>0.250000</td>\n",
       "      <td>0.0</td>\n",
       "      <td>0.333333</td>\n",
       "      <td>0.339623</td>\n",
       "      <td>0.178082</td>\n",
       "      <td>0.0</td>\n",
       "      <td>0.0</td>\n",
       "      <td>0.770992</td>\n",
       "      <td>0.0</td>\n",
       "      <td>0.225806</td>\n",
       "      <td>1.0</td>\n",
       "      <td>0.0</td>\n",
       "      <td>0.666667</td>\n",
       "    </tr>\n",
       "    <tr>\n",
       "      <th>3</th>\n",
       "      <td>0.562500</td>\n",
       "      <td>1.0</td>\n",
       "      <td>0.333333</td>\n",
       "      <td>0.245283</td>\n",
       "      <td>0.251142</td>\n",
       "      <td>0.0</td>\n",
       "      <td>0.5</td>\n",
       "      <td>0.816794</td>\n",
       "      <td>0.0</td>\n",
       "      <td>0.129032</td>\n",
       "      <td>1.0</td>\n",
       "      <td>0.0</td>\n",
       "      <td>0.666667</td>\n",
       "    </tr>\n",
       "    <tr>\n",
       "      <th>4</th>\n",
       "      <td>0.583333</td>\n",
       "      <td>0.0</td>\n",
       "      <td>0.000000</td>\n",
       "      <td>0.245283</td>\n",
       "      <td>0.520548</td>\n",
       "      <td>0.0</td>\n",
       "      <td>0.5</td>\n",
       "      <td>0.702290</td>\n",
       "      <td>1.0</td>\n",
       "      <td>0.096774</td>\n",
       "      <td>1.0</td>\n",
       "      <td>0.0</td>\n",
       "      <td>0.666667</td>\n",
       "    </tr>\n",
       "  </tbody>\n",
       "</table>\n",
       "</div>"
      ],
      "text/plain": [
       "        age  sex        cp  trestbps      chol  fbs  restecg   thalach  exang  \\\n",
       "0  0.708333  1.0  1.000000  0.481132  0.244292  1.0      0.0  0.603053    0.0   \n",
       "1  0.166667  1.0  0.666667  0.339623  0.283105  0.0      0.5  0.885496    0.0   \n",
       "2  0.250000  0.0  0.333333  0.339623  0.178082  0.0      0.0  0.770992    0.0   \n",
       "3  0.562500  1.0  0.333333  0.245283  0.251142  0.0      0.5  0.816794    0.0   \n",
       "4  0.583333  0.0  0.000000  0.245283  0.520548  0.0      0.5  0.702290    1.0   \n",
       "\n",
       "    oldpeak  slope   ca      thal  \n",
       "0  0.370968    0.0  0.0  0.333333  \n",
       "1  0.564516    0.0  0.0  0.666667  \n",
       "2  0.225806    1.0  0.0  0.666667  \n",
       "3  0.129032    1.0  0.0  0.666667  \n",
       "4  0.096774    1.0  0.0  0.666667  "
      ]
     },
     "execution_count": 20,
     "metadata": {},
     "output_type": "execute_result"
    }
   ],
   "source": [
    "# Import data\n",
    "import pandas as pd\n",
    "df = pd.read_csv('heart.csv')\n",
    "\n",
    "# Create the predictor and target variables\n",
    "y = df['target']\n",
    "X = df.drop(columns=['target'], axis=1)\n",
    "\n",
    "print(y.value_counts())\n",
    "X.head()"
   ]
  },
  {
   "cell_type": "markdown",
   "metadata": {},
   "source": [
    "Run your algorithm and plot the successive weights of the features through iterations. Below is a dataset, with `X` and `y` predefined for you. Use your logistic regression function to train a model. As the model trains, record the iteration cycle of the gradient descent algorithm and the weights of the various features. Then, plot this data on subplots for each of the individual features. Each graph should have the iteration number on the x-axis and the value of that feature weight for that iteration cycle on the y-axis. This will visually display how the algorithm is adjusting the weights over successive iterations, and hopefully show convergence to stable weights."
   ]
  },
  {
   "cell_type": "code",
   "execution_count": 24,
   "metadata": {},
   "outputs": [
    {
     "data": {
      "text/plain": [
       "(13,)"
      ]
     },
     "execution_count": 24,
     "metadata": {},
     "output_type": "execute_result"
    }
   ],
   "source": [
    "w.shape"
   ]
  },
  {
   "cell_type": "code",
   "execution_count": 25,
   "metadata": {},
   "outputs": [
    {
     "data": {
      "text/html": [
       "<div>\n",
       "<style scoped>\n",
       "    .dataframe tbody tr th:only-of-type {\n",
       "        vertical-align: middle;\n",
       "    }\n",
       "\n",
       "    .dataframe tbody tr th {\n",
       "        vertical-align: top;\n",
       "    }\n",
       "\n",
       "    .dataframe thead th {\n",
       "        text-align: right;\n",
       "    }\n",
       "</style>\n",
       "<table border=\"1\" class=\"dataframe\">\n",
       "  <thead>\n",
       "    <tr style=\"text-align: right;\">\n",
       "      <th></th>\n",
       "      <th>initial_weight</th>\n",
       "      <th>0_iter</th>\n",
       "      <th>1_iter</th>\n",
       "      <th>2_iter</th>\n",
       "      <th>3_iter</th>\n",
       "      <th>4_iter</th>\n",
       "      <th>5_iter</th>\n",
       "      <th>6_iter</th>\n",
       "      <th>7_iter</th>\n",
       "      <th>8_iter</th>\n",
       "      <th>9_iter</th>\n",
       "    </tr>\n",
       "  </thead>\n",
       "  <tbody>\n",
       "    <tr>\n",
       "      <th>0</th>\n",
       "      <td>1.0</td>\n",
       "      <td>0.921824</td>\n",
       "      <td>0.844091</td>\n",
       "      <td>0.766977</td>\n",
       "      <td>0.690725</td>\n",
       "      <td>0.615666</td>\n",
       "      <td>0.542248</td>\n",
       "      <td>0.471051</td>\n",
       "      <td>0.402792</td>\n",
       "      <td>0.338294</td>\n",
       "      <td>0.278409</td>\n",
       "    </tr>\n",
       "    <tr>\n",
       "      <th>1</th>\n",
       "      <td>1.0</td>\n",
       "      <td>0.886965</td>\n",
       "      <td>0.774398</td>\n",
       "      <td>0.662523</td>\n",
       "      <td>0.551665</td>\n",
       "      <td>0.442287</td>\n",
       "      <td>0.335031</td>\n",
       "      <td>0.230757</td>\n",
       "      <td>0.130552</td>\n",
       "      <td>0.035687</td>\n",
       "      <td>-0.052503</td>\n",
       "    </tr>\n",
       "    <tr>\n",
       "      <th>2</th>\n",
       "      <td>1.0</td>\n",
       "      <td>0.978665</td>\n",
       "      <td>0.957571</td>\n",
       "      <td>0.936807</td>\n",
       "      <td>0.916498</td>\n",
       "      <td>0.896810</td>\n",
       "      <td>0.877964</td>\n",
       "      <td>0.860242</td>\n",
       "      <td>0.843990</td>\n",
       "      <td>0.829602</td>\n",
       "      <td>0.817482</td>\n",
       "    </tr>\n",
       "    <tr>\n",
       "      <th>3</th>\n",
       "      <td>1.0</td>\n",
       "      <td>0.948142</td>\n",
       "      <td>0.896567</td>\n",
       "      <td>0.845390</td>\n",
       "      <td>0.794768</td>\n",
       "      <td>0.744918</td>\n",
       "      <td>0.696134</td>\n",
       "      <td>0.648794</td>\n",
       "      <td>0.603371</td>\n",
       "      <td>0.560406</td>\n",
       "      <td>0.520463</td>\n",
       "    </tr>\n",
       "    <tr>\n",
       "      <th>4</th>\n",
       "      <td>1.0</td>\n",
       "      <td>0.961222</td>\n",
       "      <td>0.922681</td>\n",
       "      <td>0.884469</td>\n",
       "      <td>0.846715</td>\n",
       "      <td>0.809593</td>\n",
       "      <td>0.773338</td>\n",
       "      <td>0.738251</td>\n",
       "      <td>0.704703</td>\n",
       "      <td>0.673119</td>\n",
       "      <td>0.643934</td>\n",
       "    </tr>\n",
       "    <tr>\n",
       "      <th>5</th>\n",
       "      <td>1.0</td>\n",
       "      <td>0.978095</td>\n",
       "      <td>0.956234</td>\n",
       "      <td>0.934437</td>\n",
       "      <td>0.912736</td>\n",
       "      <td>0.891173</td>\n",
       "      <td>0.869810</td>\n",
       "      <td>0.848732</td>\n",
       "      <td>0.828054</td>\n",
       "      <td>0.807918</td>\n",
       "      <td>0.788492</td>\n",
       "    </tr>\n",
       "    <tr>\n",
       "      <th>6</th>\n",
       "      <td>1.0</td>\n",
       "      <td>0.969541</td>\n",
       "      <td>0.939287</td>\n",
       "      <td>0.909318</td>\n",
       "      <td>0.879747</td>\n",
       "      <td>0.850725</td>\n",
       "      <td>0.822455</td>\n",
       "      <td>0.795203</td>\n",
       "      <td>0.769294</td>\n",
       "      <td>0.745104</td>\n",
       "      <td>0.723024</td>\n",
       "    </tr>\n",
       "    <tr>\n",
       "      <th>7</th>\n",
       "      <td>1.0</td>\n",
       "      <td>0.929711</td>\n",
       "      <td>0.859963</td>\n",
       "      <td>0.790966</td>\n",
       "      <td>0.723009</td>\n",
       "      <td>0.656483</td>\n",
       "      <td>0.591911</td>\n",
       "      <td>0.529961</td>\n",
       "      <td>0.471451</td>\n",
       "      <td>0.417301</td>\n",
       "      <td>0.368449</td>\n",
       "    </tr>\n",
       "    <tr>\n",
       "      <th>8</th>\n",
       "      <td>1.0</td>\n",
       "      <td>0.924392</td>\n",
       "      <td>0.848973</td>\n",
       "      <td>0.773836</td>\n",
       "      <td>0.699118</td>\n",
       "      <td>0.625019</td>\n",
       "      <td>0.551823</td>\n",
       "      <td>0.479923</td>\n",
       "      <td>0.409834</td>\n",
       "      <td>0.342183</td>\n",
       "      <td>0.277664</td>\n",
       "    </tr>\n",
       "    <tr>\n",
       "      <th>9</th>\n",
       "      <td>1.0</td>\n",
       "      <td>0.965014</td>\n",
       "      <td>0.930148</td>\n",
       "      <td>0.895453</td>\n",
       "      <td>0.861000</td>\n",
       "      <td>0.826886</td>\n",
       "      <td>0.793248</td>\n",
       "      <td>0.760263</td>\n",
       "      <td>0.728157</td>\n",
       "      <td>0.697195</td>\n",
       "      <td>0.667662</td>\n",
       "    </tr>\n",
       "    <tr>\n",
       "      <th>10</th>\n",
       "      <td>1.0</td>\n",
       "      <td>0.921124</td>\n",
       "      <td>0.842862</td>\n",
       "      <td>0.765457</td>\n",
       "      <td>0.689245</td>\n",
       "      <td>0.614685</td>\n",
       "      <td>0.542391</td>\n",
       "      <td>0.473156</td>\n",
       "      <td>0.407954</td>\n",
       "      <td>0.347889</td>\n",
       "      <td>0.294083</td>\n",
       "    </tr>\n",
       "    <tr>\n",
       "      <th>11</th>\n",
       "      <td>1.0</td>\n",
       "      <td>0.959973</td>\n",
       "      <td>0.920046</td>\n",
       "      <td>0.880263</td>\n",
       "      <td>0.840691</td>\n",
       "      <td>0.801422</td>\n",
       "      <td>0.762590</td>\n",
       "      <td>0.724372</td>\n",
       "      <td>0.687002</td>\n",
       "      <td>0.650760</td>\n",
       "      <td>0.615958</td>\n",
       "    </tr>\n",
       "    <tr>\n",
       "      <th>12</th>\n",
       "      <td>1.0</td>\n",
       "      <td>0.884694</td>\n",
       "      <td>0.770039</td>\n",
       "      <td>0.656297</td>\n",
       "      <td>0.543836</td>\n",
       "      <td>0.433160</td>\n",
       "      <td>0.324949</td>\n",
       "      <td>0.220093</td>\n",
       "      <td>0.119691</td>\n",
       "      <td>0.025007</td>\n",
       "      <td>-0.062652</td>\n",
       "    </tr>\n",
       "  </tbody>\n",
       "</table>\n",
       "</div>"
      ],
      "text/plain": [
       "    initial_weight    0_iter    1_iter    2_iter    3_iter    4_iter  \\\n",
       "0              1.0  0.921824  0.844091  0.766977  0.690725  0.615666   \n",
       "1              1.0  0.886965  0.774398  0.662523  0.551665  0.442287   \n",
       "2              1.0  0.978665  0.957571  0.936807  0.916498  0.896810   \n",
       "3              1.0  0.948142  0.896567  0.845390  0.794768  0.744918   \n",
       "4              1.0  0.961222  0.922681  0.884469  0.846715  0.809593   \n",
       "5              1.0  0.978095  0.956234  0.934437  0.912736  0.891173   \n",
       "6              1.0  0.969541  0.939287  0.909318  0.879747  0.850725   \n",
       "7              1.0  0.929711  0.859963  0.790966  0.723009  0.656483   \n",
       "8              1.0  0.924392  0.848973  0.773836  0.699118  0.625019   \n",
       "9              1.0  0.965014  0.930148  0.895453  0.861000  0.826886   \n",
       "10             1.0  0.921124  0.842862  0.765457  0.689245  0.614685   \n",
       "11             1.0  0.959973  0.920046  0.880263  0.840691  0.801422   \n",
       "12             1.0  0.884694  0.770039  0.656297  0.543836  0.433160   \n",
       "\n",
       "      5_iter    6_iter    7_iter    8_iter    9_iter  \n",
       "0   0.542248  0.471051  0.402792  0.338294  0.278409  \n",
       "1   0.335031  0.230757  0.130552  0.035687 -0.052503  \n",
       "2   0.877964  0.860242  0.843990  0.829602  0.817482  \n",
       "3   0.696134  0.648794  0.603371  0.560406  0.520463  \n",
       "4   0.773338  0.738251  0.704703  0.673119  0.643934  \n",
       "5   0.869810  0.848732  0.828054  0.807918  0.788492  \n",
       "6   0.822455  0.795203  0.769294  0.745104  0.723024  \n",
       "7   0.591911  0.529961  0.471451  0.417301  0.368449  \n",
       "8   0.551823  0.479923  0.409834  0.342183  0.277664  \n",
       "9   0.793248  0.760263  0.728157  0.697195  0.667662  \n",
       "10  0.542391  0.473156  0.407954  0.347889  0.294083  \n",
       "11  0.762590  0.724372  0.687002  0.650760  0.615958  \n",
       "12  0.324949  0.220093  0.119691  0.025007 -0.062652  "
      ]
     },
     "execution_count": 25,
     "metadata": {},
     "output_type": "execute_result"
    }
   ],
   "source": [
    "w_df"
   ]
  },
  {
   "cell_type": "code",
   "execution_count": 34,
   "metadata": {},
   "outputs": [
    {
     "data": {
      "image/png": "[encoded data removed]",
      "text/plain": [
       "<Figure size 1152x864 with 13 Axes>"
      ]
     },
     "metadata": {
      "needs_background": "light"
     },
     "output_type": "display_data"
    }
   ],
   "source": [
    "# Your code here\n",
    "iteration = 10000\n",
    "alpha = 0.001\n",
    "w, w_df = grad_desc(X, y, iteration, alpha) # 10000\n",
    "\n",
    "w_df.columns = np.arange(len(w_df.columns))\n",
    "\n",
    "plt.figure(figsize=(16, 12))\n",
    "\n",
    "\n",
    "for (i, j) in enumerate(w):\n",
    "    plt.subplot(3, 5, i + 1)\n",
    "    plt.title(list(X)[i], size='medium')\n",
    "    plt.plot(w_df.iloc[i].T)\n",
    "    plt.xticks(rotation = 45)\n",
    "    plt.axis('tight')\n"
   ]
  },
  {
   "cell_type": "markdown",
   "metadata": {},
   "source": [
    "## Scikit-learn\n",
    "\n",
    "For comparison, import scikit-learn's standard `LogisticRegression()` function. Initialize it with **no intercept** and **C=1e16** or another very high number. The reason is as follows: our implementation has not used an intercept, and you have not performed any regularization such as Lasso or Ridge (scikit-learn uses l2 by default). The high value of `C` will essentially negate this. Also, set the `random_state` to 2 and use the `'liblinear'` solver. \n",
    "\n",
    "After initializing a regression object, fit it to `X` and `y`."
   ]
  },
  {
   "cell_type": "code",
   "execution_count": 36,
   "metadata": {},
   "outputs": [
    {
     "data": {
      "text/plain": [
       "LogisticRegression(C=1e+16, fit_intercept=False, random_state=2,\n",
       "                   solver='liblinear')"
      ]
     },
     "execution_count": 36,
     "metadata": {},
     "output_type": "execute_result"
    }
   ],
   "source": [
    "# Your code here\n",
    "from sklearn.linear_model import LogisticRegression\n",
    "logreg = LogisticRegression(fit_intercept=False, random_state = 2,\n",
    "                            C = 1e16, solver = \"liblinear\")\n",
    "logreg.fit(X,y)"
   ]
  },
  {
   "cell_type": "markdown",
   "metadata": {},
   "source": [
    "## Compare the models\n",
    "\n",
    "Compare the coefficient weights of your model to that generated by scikit-learn."
   ]
  },
  {
   "cell_type": "code",
   "execution_count": 47,
   "metadata": {},
   "outputs": [
    {
     "name": "stdout",
     "output_type": "stream",
     "text": [
      "From SKlearn: [[ 0.812 -1.613  2.618 -1.969 -1.509  0.057  1.152  4.421 -0.83  -2.747\n",
      "   1.456 -3.116 -2.191]]\n",
      "\n",
      "Our Model:  [0.78, -1.602, 2.618, -1.952, -1.394, 0.058, 1.16, 4.369, -0.831, -2.751, 1.458, -3.108, -2.192]\n"
     ]
    }
   ],
   "source": [
    "# Your code here\n",
    "\n",
    "print(\"From SKlearn:\", np.round(logreg.coef_, 3))\n",
    "print()\n",
    "\n",
    "print(\"Our Model: \",list(np.round(w_df[len(w_df.columns)-1], 3)))"
   ]
  },
  {
   "cell_type": "markdown",
   "metadata": {},
   "source": [
    "## Level up (Optional)\n",
    "\n",
    "Update the gradient descent algorithm to also return the cost after each iteration. Then rerun the algorithm and create a graph displaying the cost versus the iteration number."
   ]
  },
  {
   "cell_type": "code",
   "execution_count": 52,
   "metadata": {},
   "outputs": [],
   "source": [
    "# Your code here\n",
    "def grad_desc(X, y, max_iterations, alpha, initial_weights=None):\n",
    "    \"\"\"Be sure to set default behavior for the initial_weights parameter.\"\"\"\n",
    "       \n",
    "    if initial_weights==None:\n",
    "        initial_weights = np.ones((X.shape[1],1)).flatten()\n",
    "# Create a for loop of iterations\n",
    "    # Generate predictions using the current feature weights\n",
    "    # Calculate an error vector based on these initial predictions and the \n",
    "    # correct labels\n",
    "    # Calculate the gradient \n",
    "    # As we saw in the previous lab, calculating the gradient is often the \n",
    "    # most difficult task.\n",
    "    # Here, your are provided with the closed form solution for the gradient \n",
    "    # of the log-loss function derived from MLE\n",
    "    # For more details on the derivation, see the additional resources \n",
    "    # section below.\n",
    "    cost = []\n",
    "    w = initial_weights\n",
    "    w_df = pd.DataFrame({})\n",
    "    w_df[\"initial_weight\"] = w\n",
    "    for i in range(max_iterations):\n",
    "        \n",
    "        y_pred = sigmoid(predict_y(X, w))\n",
    "        error_vector = y - y_pred\n",
    "        gradient = np.dot(X.transpose(), error_vector) \n",
    "        # Update the weight vector take a step of alpha in direction of gradient\n",
    "        w += alpha * gradient\n",
    "        \n",
    "        w_df[f\"{i}_iter\"] = w\n",
    "        cost.append(-y*np.log(y_pred) - (1-y)*log(1-y_pred))\n",
    "    # Return finalized weights\n",
    "    return w, w_df, cost\n",
    "    "
   ]
  },
  {
   "cell_type": "markdown",
   "metadata": {},
   "source": [
    "## Additional Resources\n",
    "\n",
    "If you want to see more of the mathematics behind the gradient derivation above, check out section 4.4.1 from the Elements of Statistical Learning which can be found here: https://web.stanford.edu/~hastie/ElemStatLearn//."
   ]
  },
  {
   "cell_type": "markdown",
   "metadata": {},
   "source": [
    "## Summary\n",
    "\n",
    "Congratulations! You just coded logistic regression from the ground up using NumPy! With this, you should have a fairly deep understanding of logistic regression and how the algorithm works! In the upcoming labs, you'll continue to explore this from a few more angles, plotting your data along with the decision boundary for our predictions."
   ]
  }
 ],
 "metadata": {
  "kernelspec": {
   "display_name": "Python 3",
   "language": "python",
   "name": "python3"
  },
  "language_info": {
   "codemirror_mode": {
    "name": "ipython",
    "version": 3
   },
   "file_extension": ".py",
   "mimetype": "text/x-python",
   "name": "python",
   "nbconvert_exporter": "python",
   "pygments_lexer": "ipython3",
   "version": "3.8.5"
  },
  "latex_envs": {
   "LaTeX_envs_menu_present": true,
   "autoclose": false,
   "autocomplete": true,
   "bibliofile": "biblio.bib",
   "cite_by": "apalike",
   "current_citInitial": 1,
   "eqLabelWithNumbers": true,
   "eqNumInitial": 1,
   "hotkeys": {
    "equation": "Ctrl-E",
    "itemize": "Ctrl-I"
   },
   "labels_anchors": false,
   "latex_user_defs": false,
   "report_style_numbering": false,
   "user_envs_cfg": false
  },
  "toc": {
   "base_numbering": 1,
   "nav_menu": {},
   "number_sections": true,
   "sideBar": true,
   "skip_h1_title": false,
   "title_cell": "Table of Contents",
   "title_sidebar": "Contents",
   "toc_cell": false,
   "toc_position": {},
   "toc_section_display": true,
   "toc_window_display": false
  },
  "varInspector": {
   "cols": {
    "lenName": 16,
    "lenType": 16,
    "lenVar": 40
   },
   "kernels_config": {
    "python": {
     "delete_cmd_postfix": "",
     "delete_cmd_prefix": "del ",
     "library": "var_list.py",
     "varRefreshCmd": "print(var_dic_list())"
    },
    "r": {
     "delete_cmd_postfix": ") ",
     "delete_cmd_prefix": "rm(",
     "library": "var_list.r",
     "varRefreshCmd": "cat(var_dic_list()) "
    }
   },
   "types_to_exclude": [
    "module",
    "function",
    "builtin_function_or_method",
    "instance",
    "_Feature"
   ],
   "window_display": false
  }
 },
 "nbformat": 4,
 "nbformat_minor": 2
}
